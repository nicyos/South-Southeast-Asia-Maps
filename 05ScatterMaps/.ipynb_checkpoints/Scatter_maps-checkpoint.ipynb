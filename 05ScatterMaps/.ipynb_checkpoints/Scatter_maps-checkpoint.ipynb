{
 "cells": [
  {
   "cell_type": "code",
   "execution_count": 1,
   "metadata": {
    "collapsed": false
   },
   "outputs": [
    {
     "data": {
      "text/html": [
       "<iframe id=\"igraph\" scrolling=\"no\" style=\"border:none;\" seamless=\"seamless\" src=\"https://plot.ly/~wenyandeng/63.embed\" height=\"1000px\" width=\"1100px\"></iframe>"
      ],
      "text/plain": [
       "<plotly.tools.PlotlyDisplay object>"
      ]
     },
     "execution_count": 1,
     "metadata": {},
     "output_type": "execute_result"
    }
   ],
   "source": [
    "import plotly.plotly as py\n",
    "from plotly.graph_objs import *\n",
    "\n",
    "mapbox_access_token = '...' # replace with your token\n",
    "\n",
    "data = Data([\n",
    "    Scattermapbox(\n",
    "        lat=[8.3512634, 7.9181144, 7.198902499999999, 7.142363900000001, 7.154055199999999, 7.3573265],\n",
    "        lon=[81.00699279999999, 80.2404959, 80.26001, 80.10377209999999, 80.05937519999999, 80.9539475],\n",
    "        mode='markers', name='Attacked but not abandoned', \n",
    "        marker=Marker(\n",
    "            size=6, color='black',\n",
    "        ), \n",
    "        text=['Kantalai', 'Ambanpola', 'Kamburupitiya', 'Nittambuwa', 'Veyangoda', 'Hasalaka'],\n",
    "    ), \n",
    "Scattermapbox(\n",
    "        lat=[6.866667, 6.0025371, 7.2193917, 7.409660799999999, 6.4345732, 9.7006168],\n",
    "        lon=[80.716667, 80.369516, 81.8497567, 80.60979499999999, 80.0003875, 80.0026139000000],\n",
    "        mode='markers', name='Not attacked or abandoned', \n",
    "        marker=Marker(\n",
    "            size=6, color='green',\n",
    "        ), \n",
    "        text=['Kantalai', 'Ambanpola', 'Kamburupitiya', 'Nittambuwa', 'Veyangoda', 'Hasalaka'],\n",
    "    ), \n",
    "Scattermapbox(\n",
    "        lat=[6.349044, 6.3461, 8.1657207, 6.4142105, 7.2268033],\n",
    "        lon=[80.0978637, 80.5515, 80.1964443, 81.3344408, 80.1958755],\n",
    "        mode='markers', name = \"Abandoned because overrun\",\n",
    "        marker=Marker(\n",
    "            size=6, color='blue',\n",
    "        ), \n",
    "        text=['Uragaha', 'Deniyaya', 'Rajangana', 'Kataragama', 'Warakapola'],\n",
    "    ),\n",
    "Scattermapbox(\n",
    "        lat=[8.042241800000001, 8.2921338, 6.2879969000000004, 8.150533, 8.8340998, 8.032214699999999],\n",
    "        lon=[80.94664399999999, 80.71728370000001, 80.1596041, 80.97898199999999, 80.7607389, 80.7519272],\n",
    "        mode='markers', name = \"Attacked and abandoned for strategic reasons\",\n",
    "        marker=Marker(\n",
    "            size=6, color='red',\n",
    "        ), \n",
    "        text=['Hingurakgoda', 'Galenbindunuwewa', 'Elpitiya', 'Medirigiriya', 'Padaviya', 'Habarana']\n",
    "    ),\n",
    "        \n",
    "Scattermapbox(\n",
    "        lat=[8.821385000000001, 8.4054142, 7.4321630999999995, 7.5156351, 7.6239144, 7.746386099999999],\n",
    "        lon=[81.0947808, 81.0973818, 80.4437781, 80.50418409999999, 80.2433145, 80.1316927],\n",
    "        mode='markers', name = \"Not attacked but abandoned for strategic reasons\",\n",
    "        marker=Marker(\n",
    "            size=6, color='gold',\n",
    "        ), \n",
    "        text=['Kuchchaveli', 'Vanela', 'Mawathagama', 'Rambodagalla', 'Wariyapola', 'Nikaweratiya'],\n",
    "    )\n",
    "])\n",
    "layout = Layout(title='Police Station Attacks and Abandonment in Sri Lanka (1971)',\n",
    "    autosize=False,\n",
    "    hovermode='closest', orientation=\"portrait\", width=1100, height=1000, \n",
    "    mapbox=dict(\n",
    "        accesstoken=mapbox_access_token,\n",
    "        bearing=0, \n",
    "        center=dict(\n",
    "            lat=7.9,\n",
    "            lon=80.5\n",
    "        ),\n",
    "        pitch=0,\n",
    "        zoom=7,\n",
    "        style='streets'\n",
    "    ),\n",
    ")          \n",
    "fig = dict(data=data, layout=layout)\n",
    "py.iplot(fig, filename='Multiple Mapbox')"
   ]
  },
  {
   "cell_type": "code",
   "execution_count": null,
   "metadata": {
    "collapsed": true
   },
   "outputs": [],
   "source": []
  }
 ],
 "metadata": {
  "anaconda-cloud": {},
  "kernelspec": {
   "display_name": "Python [Root]",
   "language": "python",
   "name": "Python [Root]"
  },
  "language_info": {
   "codemirror_mode": {
    "name": "ipython",
    "version": 3
   },
   "file_extension": ".py",
   "mimetype": "text/x-python",
   "name": "python",
   "nbconvert_exporter": "python",
   "pygments_lexer": "ipython3",
   "version": "3.5.2"
  }
 },
 "nbformat": 4,
 "nbformat_minor": 2
}
